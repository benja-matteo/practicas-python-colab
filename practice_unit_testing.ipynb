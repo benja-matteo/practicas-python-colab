{
  "nbformat": 4,
  "nbformat_minor": 0,
  "metadata": {
    "colab": {
      "provenance": [],
      "authorship_tag": "ABX9TyN9kHw9blFEt1pSArxVlYlc",
      "include_colab_link": true
    },
    "kernelspec": {
      "name": "python3",
      "display_name": "Python 3"
    },
    "language_info": {
      "name": "python"
    }
  },
  "cells": [
    {
      "cell_type": "markdown",
      "metadata": {
        "id": "view-in-github",
        "colab_type": "text"
      },
      "source": [
        "<a href=\"https://colab.research.google.com/github/benja-matteo/practicas-python-colab/blob/main/practice_unit_testing.ipynb\" target=\"_parent\"><img src=\"https://colab.research.google.com/assets/colab-badge.svg\" alt=\"Open In Colab\"/></a>"
      ]
    },
    {
      "cell_type": "code",
      "execution_count": null,
      "metadata": {
        "colab": {
          "base_uri": "https://localhost:8080/"
        },
        "id": "V3H7w6iAIQEE",
        "outputId": "fa3bdf19-be30-4c46-f19b-de303a476e4e"
      },
      "outputs": [
        {
          "output_type": "stream",
          "name": "stdout",
          "text": [
            "Nivel: 1, XP añadido: 200\n",
            "Esperado: 300, Resultado: 300\n",
            "Pass\n",
            "------------------------------\n",
            "Nivel: 2, XP añadido: 50\n",
            "Esperado: 250, Resultado: 250\n",
            "Pass\n",
            "------------------------------\n",
            "Nivel: 0, XP añadido: 0\n",
            "Esperado: 0, Resultado: 0\n",
            "Pass\n",
            "------------------------------\n",
            "Nivel: 0, XP añadido: 200\n",
            "Esperado: 200, Resultado: 200\n",
            "Pass\n",
            "------------------------------\n"
          ]
        }
      ],
      "source": [
        "def total_xp(level, xp_to_add): #cuanta experiencia hay en cada nivel\n",
        "    xp_per_lvl = level * 100\n",
        "    xp_to_add += xp_per_lvl\n",
        "    return xp_to_add\n",
        "\n",
        "# Casos de prueba básicos\n",
        "test_cases = [\n",
        "    (1, 200, 300),  # nivel 1 + 200 xp = 300 total\n",
        "    (2, 50, 250),   # nivel 2 + 50 xp = 250 total\n",
        "    (0, 0, 0),      # nivel 0 + 0 xp = 0 total\n",
        "    (0, 200, 200)   # nivel 0 + 200 xp = 200 total\n",
        "]\n",
        "\n",
        "# Probando funcion\n",
        "for level, xp_add, expected in test_cases: #desempaquetando tuplas en test_cases\n",
        "    result = total_xp(level, xp_add)\n",
        "    print(f\"Nivel: {level}, XP añadido: {xp_add}\")\n",
        "    print(f\"Esperado: {expected}, Resultado: {result}\")\n",
        "    print(\"Pass\" if result == expected else \"Fail\")\n",
        "    print(\"-\" * 30)"
      ]
    },
    {
      "cell_type": "code",
      "source": [
        "def brew_potion(base_power, essence, multiplier):\n",
        "    \"\"\"\n",
        "    Calcula el poder mágico final de una poción.\n",
        "    - base_power: el poder base de la poción\n",
        "    - essence: un número estático que se suma al poder base\n",
        "    - multiplier: un multiplicador por el cual se amplifica el resultado\n",
        "    ¡Devuelve el poder final de la poción!\n",
        "    \"\"\"\n",
        "    final_potion_effect = (base_power + essence)* multiplier\n",
        "    return final_potion_effect\n",
        "\n",
        "#casos de prueba\n",
        "test_cases = [\n",
        "    (10, 5, 2, 30),  # (base_power, essence, multiplier, expected_result)\n",
        "    (0, 0, 1, 0),\n",
        "    (100, 20, 1, 120),\n",
        "    (5, 5, 10, 100),\n",
        "]\n",
        "\n",
        "#Recibe la funcion principal y le asigna sus parametros como argumentos par esa funcion\n",
        "#comprueba que la funcion principal del programa sea lo que se espera\n",
        "def test_brew_potion(base_power, essence, multiplier, expected_output):\n",
        "  result = brew_potion(base_power, essence, multiplier)\n",
        "  print(result)\n",
        "  if result == expected_output:\n",
        "    print(\"pass\")\n",
        "    return True\n",
        "  print(\"fail\")\n",
        "  return False\n",
        "\n",
        "\n",
        "#conteo de cuantos test pasan y cuantos fallana\n",
        "#se le asignan los casos de prueba a la funcion que los testea\n",
        "#se asegura que los datos se pasan correctamente\n",
        "def main():\n",
        "  passed = 0\n",
        "  failed = 0\n",
        "\n",
        "  for test_case in test_cases:\n",
        "    correct = test_brew_potion(*test_case) #Pasandole a la funcion test_brew_potion los valores de las tuplas de test_cases\n",
        "    print(correct)\n",
        "    if correct:\n",
        "      passed += 1\n",
        "    else:\n",
        "      failed += 1\n",
        "  if failed == 0:\n",
        "    print(\"PASS\")\n",
        "  else:\n",
        "    print(\"FAIL\")\n",
        "\n",
        "\n",
        "\n",
        "main()"
      ],
      "metadata": {
        "colab": {
          "base_uri": "https://localhost:8080/"
        },
        "id": "rAZDTWfkPMmt",
        "outputId": "58a0f779-6fb9-4fdc-d3c6-87169ccd4103"
      },
      "execution_count": 2,
      "outputs": [
        {
          "output_type": "stream",
          "name": "stdout",
          "text": [
            "30\n",
            "pass\n",
            "True\n",
            "0\n",
            "pass\n",
            "True\n",
            "120\n",
            "pass\n",
            "True\n",
            "100\n",
            "pass\n",
            "True\n",
            "PASS\n"
          ]
        }
      ]
    },
    {
      "cell_type": "code",
      "source": [],
      "metadata": {
        "id": "UdX21gLcgAmX"
      },
      "execution_count": null,
      "outputs": []
    }
  ]
}