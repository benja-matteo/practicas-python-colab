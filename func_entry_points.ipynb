{
  "nbformat": 4,
  "nbformat_minor": 0,
  "metadata": {
    "colab": {
      "provenance": [],
      "authorship_tag": "ABX9TyMYcDeIVdhazL7wNHeCdnVg",
      "include_colab_link": true
    },
    "kernelspec": {
      "name": "python3",
      "display_name": "Python 3"
    },
    "language_info": {
      "name": "python"
    }
  },
  "cells": [
    {
      "cell_type": "markdown",
      "metadata": {
        "id": "view-in-github",
        "colab_type": "text"
      },
      "source": [
        "<a href=\"https://colab.research.google.com/github/benja-matteo/practicas-python-colab/blob/main/func_entry_points.ipynb\" target=\"_parent\"><img src=\"https://colab.research.google.com/assets/colab-badge.svg\" alt=\"Open In Colab\"/></a>"
      ]
    },
    {
      "cell_type": "code",
      "execution_count": null,
      "metadata": {
        "colab": {
          "base_uri": "https://localhost:8080/"
        },
        "id": "_1jfSDUVWh27",
        "outputId": "22a1886d-17a2-4d26-a3ed-3932e965c0ec"
      },
      "outputs": [
        {
          "output_type": "stream",
          "name": "stdout",
          "text": [
            "The player now has 15 health\n"
          ]
        }
      ],
      "source": [
        "def main():\n",
        "    health = 10\n",
        "    armor = 5\n",
        "    add_armor(health, armor) #add_armor recibe 5 y 10 como argumento\n",
        "\n",
        "def add_armor(h, a):\n",
        "    new_health = h + a\n",
        "    print_health(new_health) #print_health recibe 5 + 10 como argumento\n",
        "\n",
        "def print_health(new_health):\n",
        "    print(f\"The player now has {new_health} health\")\n",
        "\n",
        "# llamada al entry point\n",
        "main()"
      ]
    },
    {
      "cell_type": "markdown",
      "source": [
        "Una función maneja la salud del jugador.\n",
        "Otra función maneja el daño.\n",
        "Y el main() coordina todo\n",
        "¿Qué funciones creo que necesito?\n",
        "¿Qué hará cada función?\n",
        "¿Dónde pongo el main()?\n"
      ],
      "metadata": {
        "id": "MoILek3SYwqe"
      }
    },
    {
      "cell_type": "markdown",
      "source": [
        "Voy a crear funciones que logren mostrar la vida de un jugador otra el danio que hace un enemigo y otra que muestre la nueva vida del jugador despues de recibir el danio"
      ],
      "metadata": {
        "id": "WkLDYZwiddf1"
      }
    },
    {
      "cell_type": "code",
      "source": [
        "def main():\n",
        "    current_player_health = 150\n",
        "    enemy_damage = calculate_enemy_damage(20,40)\n",
        "    remaining_health = new_player_health(current_player_health, enemy_damage)\n",
        "    message(remaining_health,enemy_damage)\n",
        "\n",
        "def new_player_health(h, d):\n",
        "  new_health = h - d\n",
        "  return new_health\n",
        "\n",
        "def calculate_enemy_damage(weapon, damage):\n",
        "  return weapon + damage\n",
        "\n",
        "#Mensaje para decirle al usuario el poder de ataque del enemigo y cuanta vida le quedo\n",
        "def message(h,d):\n",
        "  print(f\"Atencion jugador se viene un ataque enemigo!\")\n",
        "  print(f\"El poder de ataque del enemigo es de: {d}\")\n",
        "  print(\"Calculando tu vida despues del ataque..\")\n",
        "  print(f\"Tu vida actual despues del ataque es de: {h}\")\n",
        "\n",
        "\n",
        "\n",
        "\n",
        "main()"
      ],
      "metadata": {
        "colab": {
          "base_uri": "https://localhost:8080/"
        },
        "id": "JLSkl6WuY1EJ",
        "outputId": "144ccad9-0d02-4c6d-f1e8-85cd501d2814"
      },
      "execution_count": null,
      "outputs": [
        {
          "output_type": "stream",
          "name": "stdout",
          "text": [
            "Atencion jugador se viene un ataque enemigo!\n",
            "El poder de ataque del enemigo es de: 60\n",
            "Calculando tu vida despues del ataque..\n",
            "Tu vida actual despues del ataque es de: 90\n"
          ]
        }
      ]
    },
    {
      "cell_type": "markdown",
      "source": [
        "Crea una función llamada create_mage que acepte 3 parámetros:\n",
        "\n",
        "name (string)\n",
        "mana (integer)\n",
        "spell_power (integer)\n",
        "La función debe retornar 2 valores:\n",
        "\n",
        "Un título que combine el nombre con \"the Archmage\" usando f-strings\n",
        "El poder mágico total, que se calcula multiplicando mana por spell_power"
      ],
      "metadata": {
        "id": "vSzZXBCqhuEk"
      }
    },
    {
      "cell_type": "code",
      "source": [
        "def create_mage(spell_power): # Crea un mago\n",
        "  return spell_power + 50\n",
        "\n",
        "def create_enemy(health): # Crea un enemigo\n",
        "  total_health = health + 10\n",
        "  return total_health\n",
        "\n",
        "def fire_ball_attack(total_power,enemy_health): #Muestra el danio que le hace el mago al enemigo\n",
        "  wizard_power = create_mage(total_power)\n",
        "  enemy_resistance = create_enemy(enemy_health)\n",
        "  fire_ball_attack = enemy_resistance - wizard_power\n",
        "  return fire_ball_attack\n",
        "\n",
        "def main():\n",
        "  resultado = fire_ball_attack(100,420)\n",
        "  total_wizard_power = create_mage(100)\n",
        "  print(f\"el poder del mago es: {total_wizard_power}\")\n",
        "  print(f\"el mago ha hecho: {resultado} de danio al enemigo\")\n",
        "\n",
        "main()\n",
        "\n",
        "\n"
      ],
      "metadata": {
        "colab": {
          "base_uri": "https://localhost:8080/"
        },
        "id": "oYsvlJHIhych",
        "outputId": "fe01a966-ee89-4e72-d823-89cf195d611c"
      },
      "execution_count": 2,
      "outputs": [
        {
          "output_type": "stream",
          "name": "stdout",
          "text": [
            "el poder del mago es: 150\n",
            "el mago ha hecho: 280 de danio al enemigo\n"
          ]
        }
      ]
    },
    {
      "cell_type": "code",
      "source": [],
      "metadata": {
        "id": "w7m3jAYoijDR"
      },
      "execution_count": null,
      "outputs": []
    }
  ]
}