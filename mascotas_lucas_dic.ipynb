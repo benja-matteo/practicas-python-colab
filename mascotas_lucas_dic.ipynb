{
  "nbformat": 4,
  "nbformat_minor": 0,
  "metadata": {
    "colab": {
      "provenance": [],
      "authorship_tag": "ABX9TyO9qk0EnqUU5sWsMEwu/QuX",
      "include_colab_link": true
    },
    "kernelspec": {
      "name": "python3",
      "display_name": "Python 3"
    },
    "language_info": {
      "name": "python"
    }
  },
  "cells": [
    {
      "cell_type": "markdown",
      "metadata": {
        "id": "view-in-github",
        "colab_type": "text"
      },
      "source": [
        "<a href=\"https://colab.research.google.com/github/benja-matteo/practicas-python-colab/blob/main/mascotas_lucas_dic.ipynb\" target=\"_parent\"><img src=\"https://colab.research.google.com/assets/colab-badge.svg\" alt=\"Open In Colab\"/></a>"
      ]
    },
    {
      "cell_type": "code",
      "execution_count": 13,
      "metadata": {
        "colab": {
          "base_uri": "https://localhost:8080/"
        },
        "id": "fYrt9X6mwjt4",
        "outputId": "0f3cf405-ce5f-4485-9f9f-380b42a0d90b"
      },
      "outputs": [
        {
          "output_type": "stream",
          "name": "stdout",
          "text": [
            "29\n",
            "30\n",
            "13\n",
            "7\n",
            "1\n",
            "1\n",
            "1\n",
            "3\n",
            "1\n",
            "Tienes un total de 86 mascotas.\n"
          ]
        }
      ],
      "source": [
        "mascotas = {\n",
        "\t\"gatos\":\n",
        "\t[\"clara\", \"carlotas\",\"chica\", \"tomi\", \"ringo\",\"fefe\",\"panser\",\"chibi\",\"pancha\",\"sam\",\"tito\",\"juanpi\",\"niño\",\"benji\",\"carlota\",\"mona\",\"amigo\",\"luna\",\"princesa1\",\"zimba\",\"gabi\",\"niki\",\"cachito\",\"rubio\",\"princesa2\",\"coto\",\"misifu\",\"nevon\",\"yiyi\"],\n",
        "\n",
        "\t\"perros\":\n",
        "\t[\"yuna\",\"carter\",\"rinty\",\"coca\",\"cayser\",\"leon\",\"terry\",\"effy\",\"sandokan\",\"malu\",\"laica\",\"choli\",\"chuchipequeño\",\"amaya\",\"perla\",\"jack\",\"rambo\",\"kira\",\"sock\",\"simon\",\"bruno\",\"ozy\",\"nada\",\"tomy\",\"terry\",\"rafles\",\"reina\",\"chogun\",\"kira\",\"jack\"],\n",
        "\n",
        "\t\"insectos\":\n",
        "\t[\"caracolcito\",\"pelusa\",\"josefina2\",\"josefina\",\"helena\",\"melena\",\"verdecito\",\"hunter\",\"gumuert\",\"maria\",\"zoro\",\"pequeñi\",\"jose\"],\n",
        "\n",
        "\t\"aves\" : [\"kiti\",\"catita1\",\"catita2\",\"matias\",\"perlita\",\"kelli\",\"ulises\"],\n",
        "\n",
        "\t\"conejos\" : [\"blanquito\"],\n",
        "\n",
        "\t\"cuyi\" : [\"cuyi\"],\n",
        "\n",
        "\t\"hamster\" : [\"hasmter\"],\n",
        "\n",
        "  \"peces\" : [\"alfa\",\"gama\",\"beta\"],\n",
        "\n",
        "  \"reptiles\": [\"panchi\"],\n",
        "\n",
        "}\n",
        "\n",
        "print(len(mascotas[\"gatos\"]))\n",
        "print(len(mascotas[\"perros\"]))\n",
        "print(len(mascotas[\"insectos\"]))\n",
        "print(len(mascotas[\"aves\"]))\n",
        "print(len(mascotas[\"conejos\"]))\n",
        "print(len(mascotas[\"cuyi\"]))\n",
        "print(len(mascotas[\"hamster\"]))\n",
        "print(len(mascotas[\"peces\"]))\n",
        "print(len(mascotas[\"reptiles\"]))\n",
        "\n",
        "total_mascotas = sum(len(lista) for lista in mascotas.values())\n",
        "print(f\"Tienes un total de {total_mascotas} mascotas.\")\n",
        "\n"
      ]
    }
  ]
}